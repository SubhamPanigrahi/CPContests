{
 "cells": [
  {
   "cell_type": "code",
   "execution_count": null,
   "metadata": {},
   "outputs": [
    {
     "name": "stdout",
     "output_type": "stream",
     "text": [
      "2\n",
      "2\n",
      "5 9\n",
      "12\n",
      "7\n"
     ]
    }
   ],
   "source": [
    "def decimalToBinary(n): \n",
    "    return bin(n).replace(\"0b\",\"\")\n",
    "\n",
    "def binaryToDecimal(n): \n",
    "    return int(n,2)\n",
    "\n",
    "t = int(input())\n",
    "for test in range(t):\n",
    "    n = int(input())\n",
    "    a = input().split(\" \")\n",
    "    arr = []\n",
    "    for x in a:\n",
    "        arr.append(int(x))\n",
    "    \n",
    "    max = 0\n",
    "    for x in arr:\n",
    "        for y in arr:\n",
    "            xy = decimalToBinary(x) + decimalToBinary(y)\n",
    "            yx = decimalToBinary(y) + decimalToBinary(x)\n",
    "            \n",
    "            xy = binaryToDecimal(xy)\n",
    "            yx = binaryToDecimal(yx)\n",
    "            \n",
    "            ans = xy - yx\n",
    "            if(ans > max):\n",
    "                max = ans\n",
    "    print(max)"
   ]
  },
  {
   "cell_type": "code",
   "execution_count": null,
   "metadata": {},
   "outputs": [],
   "source": [
    "t = int(input())\n",
    "for test in range(t):\n",
    "    n,m,x,y = input().split(\" \")\n",
    "    n = int(n)\n",
    "    m = int(m)\n",
    "    x = int(x)\n",
    "    y = int(y)\n",
    "    \n",
    "    if((m*n)%2 == 0):\n",
    "        if(x>=y):\n",
    "            ans = ((m*n)/2)*y\n",
    "        else:\n",
    "            if(x <= y//2):\n",
    "                ans = (m*n*x)\n",
    "            else:\n",
    "                ans = ((m*n)/2)*y\n",
    "    else:\n",
    "        if(x >= y):\n",
    "            ans = (((m*n)/2) + 1)*y\n",
    "        else:\n",
    "            if(x<=(y/2)):\n",
    "                ans = (m*n*x)\n",
    "            else:\n",
    "                ans = ((m*n)/2)*y + x\n",
    "    print(ans)"
   ]
  }
 ],
 "metadata": {
  "kernelspec": {
   "display_name": "Python 3",
   "language": "python",
   "name": "python3"
  },
  "language_info": {
   "codemirror_mode": {
    "name": "ipython",
    "version": 3
   },
   "file_extension": ".py",
   "mimetype": "text/x-python",
   "name": "python",
   "nbconvert_exporter": "python",
   "pygments_lexer": "ipython3",
   "version": "3.8.1"
  }
 },
 "nbformat": 4,
 "nbformat_minor": 4
}
